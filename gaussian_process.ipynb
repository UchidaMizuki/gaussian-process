{
  "nbformat": 4,
  "nbformat_minor": 0,
  "metadata": {
    "colab": {
      "name": "Untitled0.ipynb",
      "provenance": [],
      "collapsed_sections": [],
      "authorship_tag": "ABX9TyP5WXGqrr2FOQSAopQPMQJ4",
      "include_colab_link": true
    },
    "kernelspec": {
      "name": "python3",
      "display_name": "Python 3"
    }
  },
  "cells": [
    {
      "cell_type": "markdown",
      "metadata": {
        "id": "view-in-github",
        "colab_type": "text"
      },
      "source": [
        "<a href=\"https://colab.research.google.com/github/UchidaMizuki/gaussian-process/blob/master/gaussian_process.ipynb\" target=\"_parent\"><img src=\"https://colab.research.google.com/assets/colab-badge.svg\" alt=\"Open In Colab\"/></a>"
      ]
    },
    {
      "cell_type": "code",
      "metadata": {
        "id": "2UqrYNaqyPln",
        "colab_type": "code",
        "colab": {
          "base_uri": "https://localhost:8080/",
          "height": 207
        },
        "outputId": "8a292f75-4726-43ad-e1db-753f6e986cfa"
      },
      "source": [
        "!pip install gpytorch"
      ],
      "execution_count": 3,
      "outputs": [
        {
          "output_type": "stream",
          "text": [
            "Collecting gpytorch\n",
            "\u001b[?25l  Downloading https://files.pythonhosted.org/packages/6f/2f/6343548d88284ebf18d241dee12d0975cd7dbdee63c0fb749b23c8f536a1/gpytorch-1.2.0.tar.gz (274kB)\n",
            "\r\u001b[K     |█▏                              | 10kB 15.0MB/s eta 0:00:01\r\u001b[K     |██▍                             | 20kB 2.2MB/s eta 0:00:01\r\u001b[K     |███▋                            | 30kB 2.8MB/s eta 0:00:01\r\u001b[K     |████▉                           | 40kB 3.1MB/s eta 0:00:01\r\u001b[K     |██████                          | 51kB 2.6MB/s eta 0:00:01\r\u001b[K     |███████▏                        | 61kB 2.8MB/s eta 0:00:01\r\u001b[K     |████████▍                       | 71kB 3.1MB/s eta 0:00:01\r\u001b[K     |█████████▋                      | 81kB 3.4MB/s eta 0:00:01\r\u001b[K     |██████████▊                     | 92kB 3.6MB/s eta 0:00:01\r\u001b[K     |████████████                    | 102kB 3.5MB/s eta 0:00:01\r\u001b[K     |█████████████▏                  | 112kB 3.5MB/s eta 0:00:01\r\u001b[K     |██████████████▍                 | 122kB 3.5MB/s eta 0:00:01\r\u001b[K     |███████████████▌                | 133kB 3.5MB/s eta 0:00:01\r\u001b[K     |████████████████▊               | 143kB 3.5MB/s eta 0:00:01\r\u001b[K     |██████████████████              | 153kB 3.5MB/s eta 0:00:01\r\u001b[K     |███████████████████▏            | 163kB 3.5MB/s eta 0:00:01\r\u001b[K     |████████████████████▎           | 174kB 3.5MB/s eta 0:00:01\r\u001b[K     |█████████████████████▌          | 184kB 3.5MB/s eta 0:00:01\r\u001b[K     |██████████████████████▊         | 194kB 3.5MB/s eta 0:00:01\r\u001b[K     |████████████████████████        | 204kB 3.5MB/s eta 0:00:01\r\u001b[K     |█████████████████████████       | 215kB 3.5MB/s eta 0:00:01\r\u001b[K     |██████████████████████████▎     | 225kB 3.5MB/s eta 0:00:01\r\u001b[K     |███████████████████████████▌    | 235kB 3.5MB/s eta 0:00:01\r\u001b[K     |████████████████████████████▊   | 245kB 3.5MB/s eta 0:00:01\r\u001b[K     |█████████████████████████████▉  | 256kB 3.5MB/s eta 0:00:01\r\u001b[K     |███████████████████████████████ | 266kB 3.5MB/s eta 0:00:01\r\u001b[K     |████████████████████████████████| 276kB 3.5MB/s \n",
            "\u001b[?25hBuilding wheels for collected packages: gpytorch\n",
            "  Building wheel for gpytorch (setup.py) ... \u001b[?25l\u001b[?25hdone\n",
            "  Created wheel for gpytorch: filename=gpytorch-1.2.0-py2.py3-none-any.whl size=459510 sha256=b275ecbf9a70fd659ee89aab0e32f38d6c0ca303c4479c71f0f196317df10817\n",
            "  Stored in directory: /root/.cache/pip/wheels/e8/eb/36/f415815e8a8b66c1f1d5a3534718c39c2d83501051f1ab604e\n",
            "Successfully built gpytorch\n",
            "Installing collected packages: gpytorch\n",
            "Successfully installed gpytorch-1.2.0\n"
          ],
          "name": "stdout"
        }
      ]
    },
    {
      "cell_type": "code",
      "metadata": {
        "id": "bVb3Ei97xo6Z",
        "colab_type": "code",
        "colab": {
          "base_uri": "https://localhost:8080/",
          "height": 406
        },
        "outputId": "3f64f9de-3a96-42e3-89fa-afebd38184e9"
      },
      "source": [
        "import math\n",
        "import torch\n",
        "import gpytorch\n",
        "from matplotlib import pyplot as plt\n",
        "\n",
        "%matplotlib inline\n",
        "%load_ext autoreload\n",
        "%autoreload 2"
      ],
      "execution_count": 2,
      "outputs": [
        {
          "output_type": "error",
          "ename": "ModuleNotFoundError",
          "evalue": "ignored",
          "traceback": [
            "\u001b[0;31m---------------------------------------------------------------------------\u001b[0m",
            "\u001b[0;31mModuleNotFoundError\u001b[0m                       Traceback (most recent call last)",
            "\u001b[0;32m<ipython-input-2-4e6e90b08a59>\u001b[0m in \u001b[0;36m<module>\u001b[0;34m()\u001b[0m\n\u001b[1;32m      1\u001b[0m \u001b[0;32mimport\u001b[0m \u001b[0mmath\u001b[0m\u001b[0;34m\u001b[0m\u001b[0;34m\u001b[0m\u001b[0m\n\u001b[1;32m      2\u001b[0m \u001b[0;32mimport\u001b[0m \u001b[0mtorch\u001b[0m\u001b[0;34m\u001b[0m\u001b[0;34m\u001b[0m\u001b[0m\n\u001b[0;32m----> 3\u001b[0;31m \u001b[0;32mimport\u001b[0m \u001b[0mgpytorch\u001b[0m\u001b[0;34m\u001b[0m\u001b[0;34m\u001b[0m\u001b[0m\n\u001b[0m\u001b[1;32m      4\u001b[0m \u001b[0;32mfrom\u001b[0m \u001b[0mmatplotlib\u001b[0m \u001b[0;32mimport\u001b[0m \u001b[0mpyplot\u001b[0m \u001b[0;32mas\u001b[0m \u001b[0mplt\u001b[0m\u001b[0;34m\u001b[0m\u001b[0;34m\u001b[0m\u001b[0m\n\u001b[1;32m      5\u001b[0m \u001b[0;34m\u001b[0m\u001b[0m\n",
            "\u001b[0;31mModuleNotFoundError\u001b[0m: No module named 'gpytorch'",
            "",
            "\u001b[0;31m---------------------------------------------------------------------------\u001b[0;32m\nNOTE: If your import is failing due to a missing package, you can\nmanually install dependencies using either !pip or !apt.\n\nTo view examples of installing some common dependencies, click the\n\"Open Examples\" button below.\n\u001b[0;31m---------------------------------------------------------------------------\u001b[0m\n"
          ]
        }
      ]
    }
  ]
}